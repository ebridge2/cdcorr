{
 "cells": [
  {
   "cell_type": "code",
   "execution_count": null,
   "id": "779d4b7b-7b7d-4849-936c-24fceb4dbcf9",
   "metadata": {},
   "outputs": [],
   "source": [
    "import seaborn as sns\n",
    "import pandas as pd\n",
    "import numpy as np\n",
    "import statsmodels.api as sm\n",
    "import statsmodels\n",
    "import matplotlib.pyplot as plt\n",
    "import dodiscover as dod\n",
    "import hyppo\n",
    "import scipy as sp\n",
    "import sklearn as sk\n",
    "from sims import *\n",
    "import dask\n",
    "from dask.distributed import Client, progress\n",
    "import dask.dataframe as ddf\n",
    "import logging\n",
    "import warnings\n",
    "warnings.filterwarnings(\"ignore\")\n",
    "import contextlib"
   ]
  },
  {
   "cell_type": "markdown",
   "id": "c4a6ff2e-3980-4cf8-87ab-0d8524964221",
   "metadata": {},
   "source": [
    "# Simulations"
   ]
  },
  {
   "cell_type": "code",
   "execution_count": null,
   "id": "c2f1a2ec-a45a-4a70-bb20-eb4d8db52c53",
   "metadata": {},
   "outputs": [],
   "source": [
    "nbreaks = 8\n",
    "nsamp = 100\n",
    "plow = 10\n",
    "phigh = 101\n",
    "bhigh = 0.8\n",
    "blow = 0.4\n",
    "K = 3\n",
    "nsims = 100\n",
    "ncores = 50\n",
    "Nrep = 1000\n",
    "\n",
    "def run_row(row, nrep=Nrep):\n",
    "    fns_to_run = {\"cMANOVA\": cond_manova, \"CoDITE\" : codite, \"cDCorr\" : cond_dcorr}\n",
    "    sim_fn = simulations[row[\"Setting\"]]\n",
    "    pvals = []\n",
    "    stat_names = []\n",
    "    if row[\"Setting\"] == \"K-Class\":\n",
    "        Y, T, X, _, _, _ = sim_fn(row[\"#Samples\"], row[\"Dimensionality\"],\n",
    "                                  causal_effect_size=row[\"Effect Size\"], balance=row[\"Balance\"],\n",
    "                                  K=3)\n",
    "    else:\n",
    "        Y, T, X, _, _, _ = sim_fn(row[\"#Samples\"], row[\"Dimensionality\"],\n",
    "                                  causal_effect_size=row[\"Effect Size\"], balance=row[\"Balance\"])\n",
    "    for statname, fn in fns_to_run.items():\n",
    "        try:\n",
    "            pval, _ = fn(Y, T, X, nrep=nrep)\n",
    "            pvals.append(pval)\n",
    "            stat_names.append(statname)\n",
    "        except:\n",
    "            pvals.append(float(\"NaN\"))\n",
    "    with contextlib.redirect_stdout(None):\n",
    "        balanced_ids = causal_prep(X, T)\n",
    "    X_bal = X[balanced_ids]; T_bal = T[balanced_ids]; Y_bal = Y[balanced_ids,:]\n",
    "    for statname, fn in fns_to_run.items():\n",
    "        try:\n",
    "            pval, _ = fn(Y_bal, T_bal, X_bal, nrep=nrep)\n",
    "            pvals.append(pval)\n",
    "            stat_names.append(\"Causal {:s}\".format(statname))\n",
    "        except:\n",
    "            pvals.append(float(\"NaN\"))\n",
    "    return tuple([row[\"Setting\"], row[\"#Samples\"], row[\"Dimensionality\"], row[\"Balance\"],\n",
    "                  row[\"Effect Size\"], row[\"i\"], *pvals])\n",
    "\n",
    "simulations = {\n",
    "    \"Linear\" : linear_sim,\n",
    "    \"Sigmoidal\": sigmoidal_sim,\n",
    "    \"K-Class\": kclass_sim\n",
    "}\n",
    "\n",
    "exps = []\n",
    "for sim in simulations.keys():\n",
    "    print(sim)\n",
    "    for p in [plow, phigh]:\n",
    "        for balance in [blow, bhigh]:\n",
    "            for eff_sz in np.linspace(0, 2, nbreaks):\n",
    "                for i in range(nsims):\n",
    "                    exps.append([sim, nsamp, p, balance, eff_sz, i])\n",
    "\n",
    "sim_exps = pd.DataFrame(exps, columns=[\"Setting\", \"#Samples\", \"Dimensionality\", \"Balance\", \"Effect Size\", \"i\"])\n",
    "print(sim_exps.head(n=10))\n",
    "print(sim_exps.shape)"
   ]
  },
  {
   "cell_type": "code",
   "execution_count": null,
   "id": "f59bf4e0-44e6-42fa-92cd-d2754266316c",
   "metadata": {},
   "outputs": [],
   "source": [
    "client = Client(threads_per_worker=1, n_workers=ncores, silence_logs=logging.ERROR)\n",
    "client"
   ]
  },
  {
   "cell_type": "code",
   "execution_count": null,
   "id": "0873ec8d-3576-47da-b6ea-917b14b6b938",
   "metadata": {},
   "outputs": [],
   "source": [
    "sim_exps = ddf.from_pandas(sim_exps, npartitions=ncores)\n",
    "sim_results = sim_exps.apply(lambda x: run_row(x), axis=1, result_type='expand',\n",
    "                             meta={0: str, 1: int, 2: int, 3: float, 4: float,\n",
    "                                   5: int, 6: float, 7: float, 8: float, 9: float, 10: float, 11: float})"
   ]
  },
  {
   "cell_type": "code",
   "execution_count": null,
   "id": "ed6772cd-7395-4076-b5d3-fe9c96ff86eb",
   "metadata": {},
   "outputs": [],
   "source": [
    "sim_results = sim_results.compute(scheduler=\"multiprocessing\")"
   ]
  },
  {
   "cell_type": "code",
   "execution_count": null,
   "id": "923cf4df-5098-4d2a-b0d9-2a1dcb7c535c",
   "metadata": {},
   "outputs": [],
   "source": [
    "sim_results = sim_results.rename(columns={0: \"Simulation\", 1: \"#Samples\", 2: \"Dimensionality\", 3: \"Balance\",\n",
    "                                          4: \"Effect Size\", 5: \"i\", 6: \"cMANOVA\", 7: \"CoDITE\", 8: \"cDCorr\",\n",
    "                                          9: \"DCorr\", 10: \"Causal MANOVA\", 11: \"Causal DITE\", 12: \"Causal cDCorr\",\n",
    "                                          13: \"Causal DCorr\"})\n",
    "sim_results.to_pickle('./data/sim_results_covarvary.pkl')"
   ]
  },
  {
   "cell_type": "code",
   "execution_count": null,
   "id": "5a624a59-29df-4216-95cb-4a8818538f40",
   "metadata": {},
   "outputs": [],
   "source": [
    "sim_results"
   ]
  },
  {
   "cell_type": "code",
   "execution_count": null,
   "id": "7f2cd419-fb3c-436e-bdc8-f2835b9ef77a",
   "metadata": {},
   "outputs": [],
   "source": []
  }
 ],
 "metadata": {
  "kernelspec": {
   "display_name": "causal",
   "language": "python",
   "name": "causal"
  },
  "language_info": {
   "codemirror_mode": {
    "name": "ipython",
    "version": 3
   },
   "file_extension": ".py",
   "mimetype": "text/x-python",
   "name": "python",
   "nbconvert_exporter": "python",
   "pygments_lexer": "ipython3",
   "version": "3.10.8"
  }
 },
 "nbformat": 4,
 "nbformat_minor": 5
}
